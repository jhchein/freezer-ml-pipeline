{
  "cells": [
    {
      "cell_type": "code",
      "source": [
        "from azureml.core import Workspace, Experiment\r\n",
        "from azureml.pipeline.core import Pipeline, PipelineData, PipelineParameter, PublishedPipeline\r\n",
        "from azureml.pipeline.core import Schedule, ScheduleRecurrence\r\n",
        "\r\n",
        "ws = Workspace.from_config()"
      ],
      "outputs": [],
      "execution_count": 51,
      "metadata": {}
    },
    {
      "cell_type": "code",
      "source": [
        "PublishedPipeline.list(ws)"
      ],
      "outputs": [
        {
          "output_type": "execute_result",
          "execution_count": 58,
          "data": {
            "text/plain": [
              "[Pipeline(Name: Freezer_SKTIME_pipeline,\n",
              " Id: bdf4e65e-9b19-4509-a047-8818eabc2a8a,\n",
              " Status: Active,\n",
              " Endpoint: https://westeurope.api.azureml.ms/pipelines/v1.0/subscriptions/147b095d-21d1-4446-b6ad-9c732cc7ce54/resourceGroups/interruptedfreezerchain/providers/Microsoft.MachineLearningServices/workspaces/interruptedfreezerchainmlservice/PipelineRuns/PipelineSubmit/bdf4e65e-9b19-4509-a047-8818eabc2a8a),\n",
              " Pipeline(Name: Freezer_SKTIME_pipeline,\n",
              " Id: a3014e1a-7327-4906-a18c-f08ca639dd4d,\n",
              " Status: Active,\n",
              " Endpoint: https://westeurope.api.azureml.ms/pipelines/v1.0/subscriptions/147b095d-21d1-4446-b6ad-9c732cc7ce54/resourceGroups/interruptedfreezerchain/providers/Microsoft.MachineLearningServices/workspaces/interruptedfreezerchainmlservice/PipelineRuns/PipelineSubmit/a3014e1a-7327-4906-a18c-f08ca639dd4d),\n",
              " Pipeline(Name: Freezer_SKTIME_pipeline,\n",
              " Id: 59f1773b-36d5-42a8-9335-91e8ac249c6c,\n",
              " Status: Active,\n",
              " Endpoint: https://westeurope.api.azureml.ms/pipelines/v1.0/subscriptions/147b095d-21d1-4446-b6ad-9c732cc7ce54/resourceGroups/interruptedfreezerchain/providers/Microsoft.MachineLearningServices/workspaces/interruptedfreezerchainmlservice/PipelineRuns/PipelineSubmit/59f1773b-36d5-42a8-9335-91e8ac249c6c),\n",
              " Pipeline(Name: Freezer_SKTIME_pipeline,\n",
              " Id: 0255fc4a-1b47-44f1-8d5c-b802c98623a2,\n",
              " Status: Active,\n",
              " Endpoint: https://westeurope.api.azureml.ms/pipelines/v1.0/subscriptions/147b095d-21d1-4446-b6ad-9c732cc7ce54/resourceGroups/interruptedfreezerchain/providers/Microsoft.MachineLearningServices/workspaces/interruptedfreezerchainmlservice/PipelineRuns/PipelineSubmit/0255fc4a-1b47-44f1-8d5c-b802c98623a2),\n",
              " Pipeline(Name: Freezer_SKTIME_pipeline,\n",
              " Id: 4de508af-b681-41e0-8350-229456f955a6,\n",
              " Status: Active,\n",
              " Endpoint: https://westeurope.api.azureml.ms/pipelines/v1.0/subscriptions/147b095d-21d1-4446-b6ad-9c732cc7ce54/resourceGroups/interruptedfreezerchain/providers/Microsoft.MachineLearningServices/workspaces/interruptedfreezerchainmlservice/PipelineRuns/PipelineSubmit/4de508af-b681-41e0-8350-229456f955a6)]"
            ]
          },
          "metadata": {}
        }
      ],
      "execution_count": 58,
      "metadata": {
        "collapsed": true,
        "outputExpanded": false,
        "jupyter": {
          "source_hidden": false,
          "outputs_hidden": false
        },
        "nteract": {
          "transient": {
            "deleting": false
          }
        }
      }
    },
    {
      "cell_type": "code",
      "source": [
        "exp = Experiment(ws, \"MaxFreezerTemperatureExceededPipeline\", _create_in_cloud=True)\r\n",
        "pipeline_id = PublishedPipeline.list(ws)[0]"
      ],
      "outputs": [],
      "execution_count": 52,
      "metadata": {
        "collapsed": true,
        "outputExpanded": false,
        "jupyter": {
          "source_hidden": false,
          "outputs_hidden": false
        },
        "nteract": {
          "transient": {
            "deleting": false
          }
        }
      }
    },
    {
      "cell_type": "code",
      "source": [
        "schedule = Schedule.create(ws, \r\n",
        "                        name=\"four_updates_per_day\",\r\n",
        "                        description=\"runs the pipeline every 6 hours\",\r\n",
        "                        pipeline_id=pipeline_id,\r\n",
        "                        recurrence=ScheduleRecurrence(frequency=\"Hour\", \r\n",
        "                                                    interval=6, \r\n",
        "                                                    start_time=None, # run instantly\r\n",
        "                                                    time_zone=None # default UTC\r\n",
        "                                                    ),\r\n",
        "                        experiment_name=exp.name)\r\n"
      ],
      "outputs": [],
      "execution_count": 54,
      "metadata": {
        "collapsed": true,
        "outputExpanded": false,
        "jupyter": {
          "source_hidden": false,
          "outputs_hidden": false
        },
        "nteract": {
          "transient": {
            "deleting": false
          }
        }
      }
    },
    {
      "cell_type": "markdown",
      "source": [
        "### List schedules"
      ],
      "metadata": {
        "nteract": {
          "transient": {
            "deleting": false
          }
        }
      }
    },
    {
      "cell_type": "code",
      "source": [
        "Schedule.list(ws)"
      ],
      "outputs": [
        {
          "output_type": "execute_result",
          "execution_count": 55,
          "data": {
            "text/plain": [
              "[Pipeline(Name: four_updates_per_day,\n",
              " Id: 53efb984-d6bb-40da-b5b1-7e2077d6466d,\n",
              " Status: Active,\n",
              " Pipeline Id: bdf4e65e-9b19-4509-a047-8818eabc2a8a,\n",
              " Recurrence Details: Runs every 6 Hours),\n",
              " Pipeline(Name: hourly_blobstorage_check,\n",
              " Id: 8be69aee-2444-4f9e-ba91-6bade512bfd9,\n",
              " Status: Active,\n",
              " Pipeline Id: 4de508af-b681-41e0-8350-229456f955a6,\n",
              " Datastore: sensordata)]"
            ]
          },
          "metadata": {}
        }
      ],
      "execution_count": 55,
      "metadata": {
        "collapsed": true,
        "outputExpanded": false,
        "jupyter": {
          "source_hidden": false,
          "outputs_hidden": false
        },
        "nteract": {
          "transient": {
            "deleting": false
          }
        }
      }
    },
    {
      "cell_type": "code",
      "source": [
        "schedule = Schedule.list(ws)[0]\r\n",
        "schedule"
      ],
      "outputs": [
        {
          "output_type": "execute_result",
          "execution_count": 56,
          "data": {
            "text/plain": [
              "Pipeline(Name: four_updates_per_day,\n",
              "Id: 53efb984-d6bb-40da-b5b1-7e2077d6466d,\n",
              "Status: Active,\n",
              "Pipeline Id: bdf4e65e-9b19-4509-a047-8818eabc2a8a,\n",
              "Recurrence Details: Runs every 6 Hours)"
            ],
            "text/html": [
              "<table style=\"width:100%\"><tr><th>Name</th><th>Id</th><th>Status</th><th>Pipeline Id</th><th>Recurrence Details</th></tr><tr><td>four_updates_per_day</td><td>53efb984-d6bb-40da-b5b1-7e2077d6466d</td><td>Active</td><td><a href=\"https://ml.azure.com/pipelines/bdf4e65e-9b19-4509-a047-8818eabc2a8a?wsid=/subscriptions/147b095d-21d1-4446-b6ad-9c732cc7ce54/resourcegroups/interruptedfreezerchain/workspaces/interruptedfreezerchainmlservice\" target=\"_blank\" rel=\"noopener\">bdf4e65e-9b19-4509-a047-8818eabc2a8a</a></td><td>Runs every 6 Hours</td></tr></table>"
            ]
          },
          "metadata": {}
        }
      ],
      "execution_count": 56,
      "metadata": {
        "collapsed": true,
        "outputExpanded": false,
        "jupyter": {
          "source_hidden": false,
          "outputs_hidden": false
        },
        "nteract": {
          "transient": {
            "deleting": false
          }
        }
      }
    },
    {
      "cell_type": "code",
      "source": [
        "schedule.get_last_pipeline_run()"
      ],
      "outputs": [
        {
          "output_type": "execute_result",
          "execution_count": 57,
          "data": {
            "text/plain": [
              "Run(Experiment: MaxFreezerTemperatureExceededPipeline,\n",
              "Id: 47b5febf-8eef-4d08-9632-849059a5da9e,\n",
              "Type: azureml.PipelineRun,\n",
              "Status: Running)"
            ],
            "text/html": [
              "<table style=\"width:100%\"><tr><th>Experiment</th><th>Id</th><th>Type</th><th>Status</th><th>Details Page</th><th>Docs Page</th></tr><tr><td>MaxFreezerTemperatureExceededPipeline</td><td>47b5febf-8eef-4d08-9632-849059a5da9e</td><td>azureml.PipelineRun</td><td>Running</td><td><a href=\"https://ml.azure.com/experiments/MaxFreezerTemperatureExceededPipeline/runs/47b5febf-8eef-4d08-9632-849059a5da9e?wsid=/subscriptions/147b095d-21d1-4446-b6ad-9c732cc7ce54/resourcegroups/interruptedfreezerchain/workspaces/interruptedfreezerchainmlservice\" target=\"_blank\" rel=\"noopener\">Link to Azure Machine Learning studio</a></td><td><a href=\"https://docs.microsoft.com/en-us/python/api/overview/azure/ml/intro?view=azure-ml-py\" target=\"_blank\" rel=\"noopener\">Link to Documentation</a></td></tr></table>"
            ]
          },
          "metadata": {}
        }
      ],
      "execution_count": 57,
      "metadata": {
        "collapsed": true,
        "outputExpanded": false,
        "jupyter": {
          "source_hidden": false,
          "outputs_hidden": false
        },
        "nteract": {
          "transient": {
            "deleting": false
          }
        }
      }
    }
  ],
  "metadata": {
    "kernelspec": {
      "name": "python3-azureml",
      "language": "python",
      "display_name": "Python 3.6 - AzureML"
    },
    "language_info": {
      "name": "python",
      "version": "3.6.9",
      "mimetype": "text/x-python",
      "codemirror_mode": {
        "name": "ipython",
        "version": 3
      },
      "pygments_lexer": "ipython3",
      "nbconvert_exporter": "python",
      "file_extension": ".py"
    },
    "kernel_info": {
      "name": "python3-azureml"
    },
    "nteract": {
      "version": "nteract-front-end@1.0.0"
    }
  },
  "nbformat": 4,
  "nbformat_minor": 2
}